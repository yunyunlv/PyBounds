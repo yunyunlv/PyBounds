{
 "cells": [
  {
   "cell_type": "code",
   "execution_count": 1,
   "id": "04ece091",
   "metadata": {},
   "outputs": [],
   "source": [
    "import pandas as pd\n",
    "import numpy as np\n",
    "import statsmodels.formula.api as smf\n",
    "import statsmodels.api as sm"
   ]
  },
  {
   "cell_type": "code",
   "execution_count": 2,
   "id": "bce3f082",
   "metadata": {},
   "outputs": [],
   "source": [
    "from datetime import datetime "
   ]
  },
  {
   "cell_type": "markdown",
   "id": "e4f27db1",
   "metadata": {},
   "source": [
    "# Uploading CPS data"
   ]
  },
  {
   "cell_type": "code",
   "execution_count": 3,
   "id": "b0bc0089",
   "metadata": {},
   "outputs": [],
   "source": [
    "cps = pd.read_csv('cps.csv',index_col=0)"
   ]
  },
  {
   "cell_type": "markdown",
   "id": "fa0d5fd1",
   "metadata": {},
   "source": [
    "# Best Linear Predictor"
   ]
  },
  {
   "cell_type": "code",
   "execution_count": 4,
   "id": "d493dac9",
   "metadata": {
    "scrolled": true
   },
   "outputs": [
    {
     "name": "stdout",
     "output_type": "stream",
     "text": [
      "                            OLS Regression Results                            \n",
      "==============================================================================\n",
      "Dep. Variable:               log_wage   R-squared:                       0.092\n",
      "Model:                            OLS   Adj. R-squared:                  0.092\n",
      "Method:                 Least Squares   F-statistic:                     2441.\n",
      "Date:                Wed, 29 Nov 2023   Prob (F-statistic):               0.00\n",
      "Time:                        14:10:40   Log-Likelihood:                -29890.\n",
      "No. Observations:               22715   AIC:                         5.978e+04\n",
      "Df Residuals:                   22713   BIC:                         5.980e+04\n",
      "Df Model:                           1                                         \n",
      "Covariance Type:                  HC1                                         \n",
      "==============================================================================\n",
      "                 coef    std err          z      P>|z|      [0.025      0.975]\n",
      "------------------------------------------------------------------------------\n",
      "Intercept      8.5711      0.034    254.650      0.000       8.505       8.637\n",
      "educ           0.1249      0.003     49.403      0.000       0.120       0.130\n",
      "==============================================================================\n",
      "Omnibus:                     8105.723   Durbin-Watson:                   1.889\n",
      "Prob(Omnibus):                  0.000   Jarque-Bera (JB):            48342.534\n",
      "Skew:                          -1.597   Prob(JB):                         0.00\n",
      "Kurtosis:                       9.394   Cond. No.                         76.9\n",
      "==============================================================================\n",
      "\n",
      "Notes:\n",
      "[1] Standard Errors are heteroscedasticity robust (HC1)\n"
     ]
    }
   ],
   "source": [
    "ols1 = smf.ols(formula='log_wage ~ educ',data=cps).fit(cov_type='HC1')\n",
    "\n",
    "print(ols1.summary())"
   ]
  },
  {
   "cell_type": "code",
   "execution_count": 5,
   "id": "2e244a79",
   "metadata": {},
   "outputs": [],
   "source": [
    "beta1 = ols1._results.params[1]"
   ]
  },
  {
   "cell_type": "code",
   "execution_count": 6,
   "id": "b0ea07e1",
   "metadata": {
    "scrolled": true
   },
   "outputs": [
    {
     "name": "stdout",
     "output_type": "stream",
     "text": [
      "                            OLS Regression Results                            \n",
      "==============================================================================\n",
      "Dep. Variable:               log_wage   R-squared:                       0.209\n",
      "Model:                            OLS   Adj. R-squared:                  0.209\n",
      "Method:                 Least Squares   F-statistic:                     2684.\n",
      "Date:                Wed, 29 Nov 2023   Prob (F-statistic):               0.00\n",
      "Time:                        14:10:40   Log-Likelihood:                -28323.\n",
      "No. Observations:               22715   AIC:                         5.665e+04\n",
      "Df Residuals:                   22712   BIC:                         5.668e+04\n",
      "Df Model:                           2                                         \n",
      "Covariance Type:                  HC1                                         \n",
      "==============================================================================\n",
      "                 coef    std err          z      P>|z|      [0.025      0.975]\n",
      "------------------------------------------------------------------------------\n",
      "Intercept      7.4145      0.039    187.891      0.000       7.337       7.492\n",
      "educ           0.1109      0.002     45.926      0.000       0.106       0.116\n",
      "age            0.0377      0.001     52.950      0.000       0.036       0.039\n",
      "==============================================================================\n",
      "Omnibus:                     9245.542   Durbin-Watson:                   1.884\n",
      "Prob(Omnibus):                  0.000   Jarque-Bera (JB):            76076.119\n",
      "Skew:                          -1.747   Prob(JB):                         0.00\n",
      "Kurtosis:                      11.257   Cond. No.                         263.\n",
      "==============================================================================\n",
      "\n",
      "Notes:\n",
      "[1] Standard Errors are heteroscedasticity robust (HC1)\n"
     ]
    }
   ],
   "source": [
    "ols2 = smf.ols(formula='log_wage ~ educ+age',data=cps).fit(cov_type='HC1')\n",
    "\n",
    "print(ols2.summary())"
   ]
  },
  {
   "cell_type": "code",
   "execution_count": 7,
   "id": "9ccaebe8",
   "metadata": {},
   "outputs": [],
   "source": [
    "beta2_0 = ols2._results.params[0]\n",
    "beta2_1 = ols2._results.params[1]\n",
    "beta2_2 = ols2._results.params[2]"
   ]
  },
  {
   "cell_type": "code",
   "execution_count": 8,
   "id": "f6404b7d",
   "metadata": {},
   "outputs": [
    {
     "data": {
      "text/html": [
       "<div>\n",
       "<style scoped>\n",
       "    .dataframe tbody tr th:only-of-type {\n",
       "        vertical-align: middle;\n",
       "    }\n",
       "\n",
       "    .dataframe tbody tr th {\n",
       "        vertical-align: top;\n",
       "    }\n",
       "\n",
       "    .dataframe thead th {\n",
       "        text-align: right;\n",
       "    }\n",
       "</style>\n",
       "<table border=\"1\" class=\"dataframe\">\n",
       "  <thead>\n",
       "    <tr style=\"text-align: right;\">\n",
       "      <th></th>\n",
       "      <th>age</th>\n",
       "      <th>wage</th>\n",
       "      <th>educ</th>\n",
       "      <th>log_wage</th>\n",
       "      <th>wage_l</th>\n",
       "      <th>wage_u</th>\n",
       "      <th>logwage_l</th>\n",
       "      <th>logwage_u</th>\n",
       "    </tr>\n",
       "  </thead>\n",
       "  <tbody>\n",
       "    <tr>\n",
       "      <th>0</th>\n",
       "      <td>22</td>\n",
       "      <td>12000</td>\n",
       "      <td>13</td>\n",
       "      <td>9.392662</td>\n",
       "      <td>9000.0</td>\n",
       "      <td>15000.0</td>\n",
       "      <td>9.104980</td>\n",
       "      <td>9.615805</td>\n",
       "    </tr>\n",
       "    <tr>\n",
       "      <th>1</th>\n",
       "      <td>21</td>\n",
       "      <td>3500</td>\n",
       "      <td>13</td>\n",
       "      <td>8.160518</td>\n",
       "      <td>1.0</td>\n",
       "      <td>9000.0</td>\n",
       "      <td>0.000000</td>\n",
       "      <td>9.104980</td>\n",
       "    </tr>\n",
       "    <tr>\n",
       "      <th>2</th>\n",
       "      <td>49</td>\n",
       "      <td>30000</td>\n",
       "      <td>13</td>\n",
       "      <td>10.308953</td>\n",
       "      <td>30000.0</td>\n",
       "      <td>36000.0</td>\n",
       "      <td>10.308953</td>\n",
       "      <td>10.491274</td>\n",
       "    </tr>\n",
       "    <tr>\n",
       "      <th>3</th>\n",
       "      <td>31</td>\n",
       "      <td>32000</td>\n",
       "      <td>16</td>\n",
       "      <td>10.373491</td>\n",
       "      <td>30000.0</td>\n",
       "      <td>36000.0</td>\n",
       "      <td>10.308953</td>\n",
       "      <td>10.491274</td>\n",
       "    </tr>\n",
       "    <tr>\n",
       "      <th>4</th>\n",
       "      <td>42</td>\n",
       "      <td>89630</td>\n",
       "      <td>21</td>\n",
       "      <td>11.403445</td>\n",
       "      <td>71000.0</td>\n",
       "      <td>362303.0</td>\n",
       "      <td>11.170435</td>\n",
       "      <td>12.800236</td>\n",
       "    </tr>\n",
       "    <tr>\n",
       "      <th>5</th>\n",
       "      <td>35</td>\n",
       "      <td>229339</td>\n",
       "      <td>21</td>\n",
       "      <td>12.342957</td>\n",
       "      <td>71000.0</td>\n",
       "      <td>362303.0</td>\n",
       "      <td>11.170435</td>\n",
       "      <td>12.800236</td>\n",
       "    </tr>\n",
       "    <tr>\n",
       "      <th>6</th>\n",
       "      <td>42</td>\n",
       "      <td>39000</td>\n",
       "      <td>12</td>\n",
       "      <td>10.571317</td>\n",
       "      <td>36000.0</td>\n",
       "      <td>43277.8</td>\n",
       "      <td>10.491274</td>\n",
       "      <td>10.675395</td>\n",
       "    </tr>\n",
       "    <tr>\n",
       "      <th>7</th>\n",
       "      <td>48</td>\n",
       "      <td>50000</td>\n",
       "      <td>12</td>\n",
       "      <td>10.819778</td>\n",
       "      <td>43277.8</td>\n",
       "      <td>53000.0</td>\n",
       "      <td>10.675395</td>\n",
       "      <td>10.878047</td>\n",
       "    </tr>\n",
       "    <tr>\n",
       "      <th>8</th>\n",
       "      <td>41</td>\n",
       "      <td>37500</td>\n",
       "      <td>13</td>\n",
       "      <td>10.532096</td>\n",
       "      <td>36000.0</td>\n",
       "      <td>43277.8</td>\n",
       "      <td>10.491274</td>\n",
       "      <td>10.675395</td>\n",
       "    </tr>\n",
       "    <tr>\n",
       "      <th>9</th>\n",
       "      <td>41</td>\n",
       "      <td>52000</td>\n",
       "      <td>14</td>\n",
       "      <td>10.858999</td>\n",
       "      <td>43277.8</td>\n",
       "      <td>53000.0</td>\n",
       "      <td>10.675395</td>\n",
       "      <td>10.878047</td>\n",
       "    </tr>\n",
       "    <tr>\n",
       "      <th>10</th>\n",
       "      <td>46</td>\n",
       "      <td>35500</td>\n",
       "      <td>12</td>\n",
       "      <td>10.477288</td>\n",
       "      <td>30000.0</td>\n",
       "      <td>36000.0</td>\n",
       "      <td>10.308953</td>\n",
       "      <td>10.491274</td>\n",
       "    </tr>\n",
       "    <tr>\n",
       "      <th>11</th>\n",
       "      <td>22</td>\n",
       "      <td>2500</td>\n",
       "      <td>13</td>\n",
       "      <td>7.824046</td>\n",
       "      <td>1.0</td>\n",
       "      <td>9000.0</td>\n",
       "      <td>0.000000</td>\n",
       "      <td>9.104980</td>\n",
       "    </tr>\n",
       "    <tr>\n",
       "      <th>12</th>\n",
       "      <td>45</td>\n",
       "      <td>46000</td>\n",
       "      <td>14</td>\n",
       "      <td>10.736397</td>\n",
       "      <td>43277.8</td>\n",
       "      <td>53000.0</td>\n",
       "      <td>10.675395</td>\n",
       "      <td>10.878047</td>\n",
       "    </tr>\n",
       "    <tr>\n",
       "      <th>13</th>\n",
       "      <td>20</td>\n",
       "      <td>4996</td>\n",
       "      <td>13</td>\n",
       "      <td>8.516393</td>\n",
       "      <td>1.0</td>\n",
       "      <td>9000.0</td>\n",
       "      <td>0.000000</td>\n",
       "      <td>9.104980</td>\n",
       "    </tr>\n",
       "    <tr>\n",
       "      <th>14</th>\n",
       "      <td>36</td>\n",
       "      <td>229339</td>\n",
       "      <td>16</td>\n",
       "      <td>12.342957</td>\n",
       "      <td>71000.0</td>\n",
       "      <td>362303.0</td>\n",
       "      <td>11.170435</td>\n",
       "      <td>12.800236</td>\n",
       "    </tr>\n",
       "    <tr>\n",
       "      <th>15</th>\n",
       "      <td>43</td>\n",
       "      <td>48000</td>\n",
       "      <td>12</td>\n",
       "      <td>10.778956</td>\n",
       "      <td>43277.8</td>\n",
       "      <td>53000.0</td>\n",
       "      <td>10.675395</td>\n",
       "      <td>10.878047</td>\n",
       "    </tr>\n",
       "    <tr>\n",
       "      <th>16</th>\n",
       "      <td>46</td>\n",
       "      <td>48000</td>\n",
       "      <td>14</td>\n",
       "      <td>10.778956</td>\n",
       "      <td>43277.8</td>\n",
       "      <td>53000.0</td>\n",
       "      <td>10.675395</td>\n",
       "      <td>10.878047</td>\n",
       "    </tr>\n",
       "    <tr>\n",
       "      <th>17</th>\n",
       "      <td>21</td>\n",
       "      <td>4000</td>\n",
       "      <td>13</td>\n",
       "      <td>8.294050</td>\n",
       "      <td>1.0</td>\n",
       "      <td>9000.0</td>\n",
       "      <td>0.000000</td>\n",
       "      <td>9.104980</td>\n",
       "    </tr>\n",
       "    <tr>\n",
       "      <th>18</th>\n",
       "      <td>27</td>\n",
       "      <td>16500</td>\n",
       "      <td>12</td>\n",
       "      <td>9.711116</td>\n",
       "      <td>15000.0</td>\n",
       "      <td>20000.0</td>\n",
       "      <td>9.615805</td>\n",
       "      <td>9.903488</td>\n",
       "    </tr>\n",
       "    <tr>\n",
       "      <th>19</th>\n",
       "      <td>38</td>\n",
       "      <td>41923</td>\n",
       "      <td>16</td>\n",
       "      <td>10.643590</td>\n",
       "      <td>36000.0</td>\n",
       "      <td>43277.8</td>\n",
       "      <td>10.491274</td>\n",
       "      <td>10.675395</td>\n",
       "    </tr>\n",
       "  </tbody>\n",
       "</table>\n",
       "</div>"
      ],
      "text/plain": [
       "    age    wage  educ   log_wage   wage_l    wage_u  logwage_l  logwage_u\n",
       "0    22   12000    13   9.392662   9000.0   15000.0   9.104980   9.615805\n",
       "1    21    3500    13   8.160518      1.0    9000.0   0.000000   9.104980\n",
       "2    49   30000    13  10.308953  30000.0   36000.0  10.308953  10.491274\n",
       "3    31   32000    16  10.373491  30000.0   36000.0  10.308953  10.491274\n",
       "4    42   89630    21  11.403445  71000.0  362303.0  11.170435  12.800236\n",
       "5    35  229339    21  12.342957  71000.0  362303.0  11.170435  12.800236\n",
       "6    42   39000    12  10.571317  36000.0   43277.8  10.491274  10.675395\n",
       "7    48   50000    12  10.819778  43277.8   53000.0  10.675395  10.878047\n",
       "8    41   37500    13  10.532096  36000.0   43277.8  10.491274  10.675395\n",
       "9    41   52000    14  10.858999  43277.8   53000.0  10.675395  10.878047\n",
       "10   46   35500    12  10.477288  30000.0   36000.0  10.308953  10.491274\n",
       "11   22    2500    13   7.824046      1.0    9000.0   0.000000   9.104980\n",
       "12   45   46000    14  10.736397  43277.8   53000.0  10.675395  10.878047\n",
       "13   20    4996    13   8.516393      1.0    9000.0   0.000000   9.104980\n",
       "14   36  229339    16  12.342957  71000.0  362303.0  11.170435  12.800236\n",
       "15   43   48000    12  10.778956  43277.8   53000.0  10.675395  10.878047\n",
       "16   46   48000    14  10.778956  43277.8   53000.0  10.675395  10.878047\n",
       "17   21    4000    13   8.294050      1.0    9000.0   0.000000   9.104980\n",
       "18   27   16500    12   9.711116  15000.0   20000.0   9.615805   9.903488\n",
       "19   38   41923    16  10.643590  36000.0   43277.8  10.491274  10.675395"
      ]
     },
     "execution_count": 8,
     "metadata": {},
     "output_type": "execute_result"
    }
   ],
   "source": [
    "cps.head(20)"
   ]
  },
  {
   "cell_type": "code",
   "execution_count": 9,
   "id": "d45fc55f",
   "metadata": {},
   "outputs": [
    {
     "data": {
      "text/html": [
       "<div>\n",
       "<style scoped>\n",
       "    .dataframe tbody tr th:only-of-type {\n",
       "        vertical-align: middle;\n",
       "    }\n",
       "\n",
       "    .dataframe tbody tr th {\n",
       "        vertical-align: top;\n",
       "    }\n",
       "\n",
       "    .dataframe thead th {\n",
       "        text-align: right;\n",
       "    }\n",
       "</style>\n",
       "<table border=\"1\" class=\"dataframe\">\n",
       "  <thead>\n",
       "    <tr style=\"text-align: right;\">\n",
       "      <th></th>\n",
       "      <th>age</th>\n",
       "      <th>wage</th>\n",
       "      <th>educ</th>\n",
       "      <th>log_wage</th>\n",
       "      <th>wage_l</th>\n",
       "      <th>wage_u</th>\n",
       "      <th>logwage_l</th>\n",
       "      <th>logwage_u</th>\n",
       "    </tr>\n",
       "  </thead>\n",
       "  <tbody>\n",
       "    <tr>\n",
       "      <th>count</th>\n",
       "      <td>20.000000</td>\n",
       "      <td>20.000000</td>\n",
       "      <td>20.000000</td>\n",
       "      <td>20.000000</td>\n",
       "      <td>20.000000</td>\n",
       "      <td>20.000000</td>\n",
       "      <td>20.000000</td>\n",
       "      <td>20.000000</td>\n",
       "    </tr>\n",
       "    <tr>\n",
       "      <th>mean</th>\n",
       "      <td>35.800000</td>\n",
       "      <td>52586.350000</td>\n",
       "      <td>14.150000</td>\n",
       "      <td>10.243398</td>\n",
       "      <td>32569.650000</td>\n",
       "      <td>83037.120000</td>\n",
       "      <td>8.400487</td>\n",
       "      <td>10.611508</td>\n",
       "    </tr>\n",
       "    <tr>\n",
       "      <th>std</th>\n",
       "      <td>10.190811</td>\n",
       "      <td>64151.364821</td>\n",
       "      <td>2.680829</td>\n",
       "      <td>1.258614</td>\n",
       "      <td>23131.429798</td>\n",
       "      <td>121479.482649</td>\n",
       "      <td>4.335780</td>\n",
       "      <td>1.155163</td>\n",
       "    </tr>\n",
       "    <tr>\n",
       "      <th>min</th>\n",
       "      <td>20.000000</td>\n",
       "      <td>2500.000000</td>\n",
       "      <td>12.000000</td>\n",
       "      <td>7.824046</td>\n",
       "      <td>1.000000</td>\n",
       "      <td>9000.000000</td>\n",
       "      <td>0.000000</td>\n",
       "      <td>9.104980</td>\n",
       "    </tr>\n",
       "    <tr>\n",
       "      <th>25%</th>\n",
       "      <td>25.750000</td>\n",
       "      <td>15375.000000</td>\n",
       "      <td>12.750000</td>\n",
       "      <td>9.631502</td>\n",
       "      <td>13500.000000</td>\n",
       "      <td>18750.000000</td>\n",
       "      <td>9.488099</td>\n",
       "      <td>9.831567</td>\n",
       "    </tr>\n",
       "    <tr>\n",
       "      <th>50%</th>\n",
       "      <td>39.500000</td>\n",
       "      <td>38250.000000</td>\n",
       "      <td>13.000000</td>\n",
       "      <td>10.551707</td>\n",
       "      <td>36000.000000</td>\n",
       "      <td>43277.800000</td>\n",
       "      <td>10.491274</td>\n",
       "      <td>10.675395</td>\n",
       "    </tr>\n",
       "    <tr>\n",
       "      <th>75%</th>\n",
       "      <td>43.500000</td>\n",
       "      <td>48500.000000</td>\n",
       "      <td>14.500000</td>\n",
       "      <td>10.789162</td>\n",
       "      <td>43277.800000</td>\n",
       "      <td>53000.000000</td>\n",
       "      <td>10.675395</td>\n",
       "      <td>10.878047</td>\n",
       "    </tr>\n",
       "    <tr>\n",
       "      <th>max</th>\n",
       "      <td>49.000000</td>\n",
       "      <td>229339.000000</td>\n",
       "      <td>21.000000</td>\n",
       "      <td>12.342957</td>\n",
       "      <td>71000.000000</td>\n",
       "      <td>362303.000000</td>\n",
       "      <td>11.170435</td>\n",
       "      <td>12.800236</td>\n",
       "    </tr>\n",
       "  </tbody>\n",
       "</table>\n",
       "</div>"
      ],
      "text/plain": [
       "             age           wage       educ   log_wage        wage_l  \\\n",
       "count  20.000000      20.000000  20.000000  20.000000     20.000000   \n",
       "mean   35.800000   52586.350000  14.150000  10.243398  32569.650000   \n",
       "std    10.190811   64151.364821   2.680829   1.258614  23131.429798   \n",
       "min    20.000000    2500.000000  12.000000   7.824046      1.000000   \n",
       "25%    25.750000   15375.000000  12.750000   9.631502  13500.000000   \n",
       "50%    39.500000   38250.000000  13.000000  10.551707  36000.000000   \n",
       "75%    43.500000   48500.000000  14.500000  10.789162  43277.800000   \n",
       "max    49.000000  229339.000000  21.000000  12.342957  71000.000000   \n",
       "\n",
       "              wage_u  logwage_l  logwage_u  \n",
       "count      20.000000  20.000000  20.000000  \n",
       "mean    83037.120000   8.400487  10.611508  \n",
       "std    121479.482649   4.335780   1.155163  \n",
       "min      9000.000000   0.000000   9.104980  \n",
       "25%     18750.000000   9.488099   9.831567  \n",
       "50%     43277.800000  10.491274  10.675395  \n",
       "75%     53000.000000  10.675395  10.878047  \n",
       "max    362303.000000  11.170435  12.800236  "
      ]
     },
     "execution_count": 9,
     "metadata": {},
     "output_type": "execute_result"
    }
   ],
   "source": [
    "cps.head(20).describe()"
   ]
  },
  {
   "cell_type": "markdown",
   "id": "08d1556d",
   "metadata": {},
   "source": [
    "# Partial Identification"
   ]
  },
  {
   "cell_type": "code",
   "execution_count": 10,
   "id": "390f482c",
   "metadata": {},
   "outputs": [],
   "source": [
    "import PyBounds as pb"
   ]
  },
  {
   "cell_type": "markdown",
   "id": "1cfb6922",
   "metadata": {},
   "source": [
    "### Preparing vector and matrix versions of the data"
   ]
  },
  {
   "cell_type": "code",
   "execution_count": 11,
   "id": "b603ecbe",
   "metadata": {},
   "outputs": [],
   "source": [
    "yl = cps.logwage_l;\n",
    "yu = cps.logwage_u;\n",
    "x1 = cps.age;\n",
    "x2 = cps.educ;\n",
    "x = cps[['age','educ']];"
   ]
  },
  {
   "cell_type": "markdown",
   "id": "cfaae2f5",
   "metadata": {},
   "source": [
    "### Polygons from the first 20 data points, using x1 (age), yl, and yu"
   ]
  },
  {
   "cell_type": "code",
   "execution_count": 12,
   "id": "0e0378b2",
   "metadata": {},
   "outputs": [],
   "source": [
    "from PyBounds.polygons import minkowskiSum"
   ]
  },
  {
   "cell_type": "code",
   "execution_count": 13,
   "id": "b0632b61",
   "metadata": {},
   "outputs": [
    {
     "name": "stdout",
     "output_type": "stream",
     "text": [
      "Execution time:  12.715 ms\n"
     ]
    }
   ],
   "source": [
    "start_time = datetime.now() \n",
    "\n",
    "G = []\n",
    "for i in range(20):\n",
    "    vl = pb.Vertex((yl[i], yl[i]*x1[i]))\n",
    "    vu = pb.Vertex((yu[i], yu[i]*x1[i]))\n",
    "    p = pb.Polygon(vl, vu) # a polygon with only two vertices is actually a segment\n",
    "    p.sort()\n",
    "    G.append(p)\n",
    "    \n",
    "P = G[0]\n",
    "for i in range(19):\n",
    "    P = minkowskiSum(P, G[i+1])\n",
    "P.sort()\n",
    "\n",
    "end_time = datetime.now() \n",
    "  \n",
    "time_difference = (end_time - start_time).total_seconds() * 10**3\n",
    "print(\"Execution time: \", time_difference, \"ms\")"
   ]
  },
  {
   "cell_type": "code",
   "execution_count": 14,
   "id": "6fbea772",
   "metadata": {},
   "outputs": [
    {
     "data": {
      "image/png": "[encoded data removed]",
      "text/plain": [
       "<Figure size 432x288 with 1 Axes>"
      ]
     },
     "metadata": {
      "needs_background": "light"
     },
     "output_type": "display_data"
    }
   ],
   "source": [
    "P.scatterPolygon()"
   ]
  },
  {
   "cell_type": "code",
   "execution_count": 15,
   "id": "4df4f473",
   "metadata": {},
   "outputs": [
    {
     "data": {
      "image/png": "[encoded data removed]",
      "text/plain": [
       "<Figure size 432x288 with 1 Axes>"
      ]
     },
     "metadata": {
      "needs_background": "light"
     },
     "output_type": "display_data"
    }
   ],
   "source": [
    "P.plotPolygon()"
   ]
  },
  {
   "cell_type": "code",
   "execution_count": 16,
   "id": "2f15c199",
   "metadata": {},
   "outputs": [
    {
     "data": {
      "text/plain": [
       "30"
      ]
     },
     "execution_count": 16,
     "metadata": {},
     "output_type": "execute_result"
    }
   ],
   "source": [
    "len(P.vertices)"
   ]
  },
  {
   "cell_type": "code",
   "execution_count": 17,
   "id": "bddb6792",
   "metadata": {
    "scrolled": true
   },
   "outputs": [
    {
     "name": "stdout",
     "output_type": "stream",
     "text": [
      "{'v': array([ 168.00974684, 6671.18079592])}\n",
      "{'v': array([ 177.1147267 , 6853.28039305])}\n",
      "{'v': array([ 195.32468641, 7235.68954701])}\n",
      "{'v': array([ 204.94049189, 7447.23726757])}\n",
      "{'v': array([ 205.22817396, 7455.00468353])}\n",
      "{'v': array([ 205.41049552, 7460.65665179])}\n",
      "{'v': array([ 207.04029652, 7517.69968683])}\n",
      "{'v': array([ 208.67009752, 7576.37252288])}\n",
      "{'v': array([ 208.85421838, 7583.36911567])}\n",
      "{'v': array([ 209.24099136, 7599.22680765])}\n",
      "{'v': array([ 211.05491322, 7675.41152595])}\n",
      "{'v': array([ 211.25756534, 7684.12556677])}\n",
      "{'v': array([ 211.46021745, 7693.24491182])}\n",
      "{'v': array([ 211.84519112, 7710.95370059])}\n",
      "{'v': array([ 212.04784323, 7720.68100197])}\n",
      "{'v': array([ 212.23016479, 7729.61475825])}\n",
      "{'v': array([ 203.12518493, 7547.51516112])}\n",
      "{'v': array([ 184.91522522, 7165.10600716])}\n",
      "{'v': array([ 175.29941974, 6953.5582866 ])}\n",
      "{'v': array([ 175.01173766, 6945.79087064])}\n",
      "{'v': array([ 174.82941611, 6940.13890238])}\n",
      "{'v': array([ 173.19961511, 6883.09586733])}\n",
      "{'v': array([ 171.56981411, 6824.42303129])}\n",
      "{'v': array([ 171.38569324, 6817.4264385 ])}\n",
      "{'v': array([ 170.99892027, 6801.56874652])}\n",
      "{'v': array([ 169.1849984 , 6725.38402822])}\n",
      "{'v': array([ 168.98234629, 6716.6699874 ])}\n",
      "{'v': array([ 168.77969418, 6707.55064235])}\n",
      "{'v': array([ 168.39472051, 6689.84185358])}\n",
      "{'v': array([ 168.1920684, 6680.1145522])}\n"
     ]
    }
   ],
   "source": [
    "for i in range(30):\n",
    "    print(vars(P.vertices[i]))"
   ]
  },
  {
   "cell_type": "markdown",
   "id": "97d29df2",
   "metadata": {},
   "source": [
    "## Sum of all data in cps"
   ]
  },
  {
   "cell_type": "code",
   "execution_count": 18,
   "id": "72c557ba",
   "metadata": {},
   "outputs": [
    {
     "data": {
      "text/plain": [
       "22715"
      ]
     },
     "execution_count": 18,
     "metadata": {},
     "output_type": "execute_result"
    }
   ],
   "source": [
    "n = cps.shape[0]\n",
    "n"
   ]
  },
  {
   "cell_type": "code",
   "execution_count": 19,
   "id": "b3679b3c",
   "metadata": {
    "scrolled": true
   },
   "outputs": [
    {
     "name": "stdout",
     "output_type": "stream",
     "text": [
      "6\n",
      "12\n",
      "20\n",
      "40\n",
      "52\n",
      "60\n",
      "62\n",
      "62\n",
      "62\n",
      "62\n",
      "62\n",
      "62\n",
      "62\n",
      "62\n",
      "Execution time:  8.744638 s\n"
     ]
    }
   ],
   "source": [
    "start_time = datetime.now() \n",
    "\n",
    "G = []\n",
    "for i in range(n):\n",
    "    vl = pb.Vertex((yl[i]/n, yl[i]*x1[i]/n))\n",
    "    vu = pb.Vertex((yu[i]/n, yu[i]*x1[i]/n))\n",
    "    p = pb.Polygon(vl, vu) # a polygon with only two vertices is actually a segment\n",
    "    p.sort()\n",
    "    G.append(p)\n",
    "    \n",
    "m = int(n)\n",
    "while m>1:\n",
    "    if m %2 !=0: \n",
    "    # if we have odd numbers of polygons to add up\n",
    "    # add the last one to the first\n",
    "        G[0] = minkowskiSum(G[0], G[m-1])\n",
    "        G[0].sort()\n",
    "        m -=1\n",
    "        \n",
    "    # then calculate the sum of the m polygons in pairs\n",
    "    for j in range(int(m/2)):\n",
    "        G[j] = minkowskiSum(G[j], G[m-1-j])\n",
    "        G[j].sort()\n",
    "    m = int(m/2)\n",
    "    print(len(G[0].vertices))\n",
    "    \n",
    "end_time = datetime.now() \n",
    "  \n",
    "time_difference = (end_time - start_time).total_seconds()\n",
    "print(\"Execution time: \", time_difference, \"s\")"
   ]
  },
  {
   "cell_type": "code",
   "execution_count": 20,
   "id": "e0c19347",
   "metadata": {
    "scrolled": false
   },
   "outputs": [
    {
     "data": {
      "image/png": "[encoded data removed]",
      "text/plain": [
       "<Figure size 432x288 with 1 Axes>"
      ]
     },
     "metadata": {
      "needs_background": "light"
     },
     "output_type": "display_data"
    }
   ],
   "source": [
    "G[0].sort()\n",
    "G[0].plotPolygon()"
   ]
  },
  {
   "cell_type": "code",
   "execution_count": 21,
   "id": "cc8b929a",
   "metadata": {
    "scrolled": false
   },
   "outputs": [
    {
     "data": {
      "image/png": "[encoded data removed]",
      "text/plain": [
       "<Figure size 432x288 with 1 Axes>"
      ]
     },
     "metadata": {
      "needs_background": "light"
     },
     "output_type": "display_data"
    }
   ],
   "source": [
    "G[0].scatterPolygon()"
   ]
  },
  {
   "cell_type": "code",
   "execution_count": 22,
   "id": "2d9074f7",
   "metadata": {
    "scrolled": true
   },
   "outputs": [
    {
     "name": "stdout",
     "output_type": "stream",
     "text": [
      "[  9.29633395 337.75532045]\n",
      "[  9.42155442 340.25972979]\n",
      "[  9.52644625 342.4624582 ]\n",
      "[  9.61909275 344.50068133]\n",
      "[  9.68163996 345.93926701]\n",
      "[  9.73318532 347.17635579]\n",
      "[  9.77268929 348.163955  ]\n",
      "[  9.80547469 349.01637529]\n",
      "[  9.84136527 349.985421  ]\n",
      "[  9.867075   350.70529358]\n",
      "[  9.90010351 351.66312032]\n",
      "[  9.93202745 352.62083854]\n",
      "[  9.96225634 353.55793394]\n",
      "[  9.99127493 354.48652883]\n",
      "[ 10.01637408 355.31480106]\n",
      "[ 10.04500356 356.28820312]\n",
      "[ 10.07729832 357.41851977]\n",
      "[ 10.10459496 358.40119901]\n",
      "[ 10.13343801 359.46839183]\n",
      "[ 10.16391603 360.6265566 ]\n",
      "[ 10.19606747 361.88046257]\n",
      "[ 10.22863397 363.18312277]\n",
      "[ 10.25733254 364.35976399]\n",
      "[ 10.28944364 365.70843013]\n",
      "[ 10.32496792 367.23597418]\n",
      "[ 10.35811901 368.69462228]\n",
      "[ 10.39029963 370.14275   ]\n",
      "[ 10.41787922 371.41141109]\n",
      "[ 10.44743018 372.80030656]\n",
      "[ 10.47631297 374.1866801 ]\n",
      "[ 10.50012605 375.35352103]\n",
      "[ 10.5299316  376.84379872]\n",
      "[ 10.40471113 374.33938938]\n",
      "[ 10.2998193  372.13666097]\n",
      "[ 10.2071728  370.09843784]\n",
      "[ 10.14462559 368.65985216]\n",
      "[ 10.09308023 367.42276338]\n",
      "[ 10.05357626 366.43516417]\n",
      "[ 10.02079087 365.58274388]\n",
      "[  9.98490028 364.61369817]\n",
      "[  9.95919055 363.89382559]\n",
      "[  9.92616204 362.93599885]\n",
      "[  9.8942381  361.97828063]\n",
      "[  9.86400922 361.04118523]\n",
      "[  9.83499063 360.11259034]\n",
      "[  9.80989147 359.28431811]\n",
      "[  9.78126199 358.31091605]\n",
      "[  9.74896723 357.1805994 ]\n",
      "[  9.72167059 356.19792016]\n",
      "[  9.69282754 355.13072734]\n",
      "[  9.66234952 353.97256258]\n",
      "[  9.63019808 352.7186566 ]\n",
      "[  9.59763158 351.4159964 ]\n",
      "[  9.56893301 350.23935519]\n",
      "[  9.53682191 348.89068905]\n",
      "[  9.50129763 347.36314499]\n",
      "[  9.46814654 345.90449689]\n",
      "[  9.43596592 344.45636917]\n",
      "[  9.40838633 343.18770808]\n",
      "[  9.37883537 341.79881261]\n",
      "[  9.34995258 340.41243907]\n",
      "[  9.3261395  339.24559815]\n"
     ]
    }
   ],
   "source": [
    "for i in range(len(G[0].vertices)):\n",
    "    print(vars(G[0].vertices[i])['v'])"
   ]
  },
  {
   "cell_type": "markdown",
   "id": "d33fe6c2",
   "metadata": {},
   "source": [
    "## 1. Testing the oneDproj function"
   ]
  },
  {
   "cell_type": "code",
   "execution_count": 23,
   "id": "f1443c9c",
   "metadata": {},
   "outputs": [],
   "source": [
    "r1=pb.oneDproj(yl,yu,x1)"
   ]
  },
  {
   "cell_type": "code",
   "execution_count": 24,
   "id": "7179939e",
   "metadata": {},
   "outputs": [
    {
     "data": {
      "text/plain": [
       "{'bound': [-0.004887858329797927, 0.14865963017398873],\n",
       " 'null': None,\n",
       " 'Htest': <PyBounds.setBLP.TestResults at 0x7fb118719b50>,\n",
       " 'dHtest': <PyBounds.setBLP.TestResults at 0x7fb1313ad130>}"
      ]
     },
     "execution_count": 24,
     "metadata": {},
     "output_type": "execute_result"
    }
   ],
   "source": [
    "vars(r1)"
   ]
  },
  {
   "cell_type": "code",
   "execution_count": 25,
   "id": "5bef481f",
   "metadata": {
    "scrolled": true
   },
   "outputs": [
    {
     "data": {
      "text/plain": [
       "{'testStat': None,\n",
       " 'criticalVal': 0.7047452080966828,\n",
       " 'ConfidenceInterval': [-0.009563871880058493, 0.1533356437242493]}"
      ]
     },
     "execution_count": 25,
     "metadata": {},
     "output_type": "execute_result"
    }
   ],
   "source": [
    "vars(r1.Htest)"
   ]
  },
  {
   "cell_type": "code",
   "execution_count": 26,
   "id": "c9fcf97e",
   "metadata": {
    "scrolled": true
   },
   "outputs": [
    {
     "data": {
      "text/plain": [
       "{'testStat': None,\n",
       " 'criticalVal': 0.5974789676534665,\n",
       " 'ConfidenceInterval': [-0.008852155946362954, 0.15262392779055375]}"
      ]
     },
     "execution_count": 26,
     "metadata": {},
     "output_type": "execute_result"
    }
   ],
   "source": [
    "vars(r1.dHtest)"
   ]
  },
  {
   "cell_type": "code",
   "execution_count": 27,
   "id": "065d71d6",
   "metadata": {},
   "outputs": [],
   "source": [
    "r2=pb.oneDproj(yl,yu,x2)"
   ]
  },
  {
   "cell_type": "code",
   "execution_count": 28,
   "id": "7899fde7",
   "metadata": {
    "scrolled": true
   },
   "outputs": [
    {
     "data": {
      "text/plain": [
       "{'bound': [0.001786042221938278, 0.3685793555816805],\n",
       " 'null': None,\n",
       " 'Htest': <PyBounds.setBLP.TestResults at 0x7fb118719bb0>,\n",
       " 'dHtest': <PyBounds.setBLP.TestResults at 0x7fb1187197f0>}"
      ]
     },
     "execution_count": 28,
     "metadata": {},
     "output_type": "execute_result"
    }
   ],
   "source": [
    "vars(r2)"
   ]
  },
  {
   "cell_type": "code",
   "execution_count": 29,
   "id": "69505079",
   "metadata": {},
   "outputs": [
    {
     "data": {
      "text/plain": [
       "{'testStat': None,\n",
       " 'criticalVal': 2.45608530397215,\n",
       " 'ConfidenceInterval': [-0.014510185166377709, 0.38487558296999647]}"
      ]
     },
     "execution_count": 29,
     "metadata": {},
     "output_type": "execute_result"
    }
   ],
   "source": [
    "vars(r2.Htest)"
   ]
  },
  {
   "cell_type": "code",
   "execution_count": 30,
   "id": "acd8388e",
   "metadata": {},
   "outputs": [
    {
     "data": {
      "text/plain": [
       "{'testStat': None,\n",
       " 'criticalVal': 2.1522110409953727,\n",
       " 'ConfidenceInterval': [-0.012493966886451614, 0.38285936469007037]}"
      ]
     },
     "execution_count": 30,
     "metadata": {},
     "output_type": "execute_result"
    }
   ],
   "source": [
    "vars(r2.dHtest)"
   ]
  },
  {
   "cell_type": "code",
   "execution_count": 31,
   "id": "48c746d9",
   "metadata": {},
   "outputs": [],
   "source": [
    "r3=pb.oneDproj(yl,yu,x,0)"
   ]
  },
  {
   "cell_type": "code",
   "execution_count": 32,
   "id": "984abd38",
   "metadata": {},
   "outputs": [
    {
     "data": {
      "text/plain": [
       "{'bound': [-0.009051777215653997, 0.14432389300936818],\n",
       " 'null': None,\n",
       " 'Htest': <PyBounds.setBLP.TestResults at 0x7fb1313afdf0>,\n",
       " 'dHtest': <PyBounds.setBLP.TestResults at 0x7fb1313b1550>}"
      ]
     },
     "execution_count": 32,
     "metadata": {},
     "output_type": "execute_result"
    }
   ],
   "source": [
    "vars(r3)"
   ]
  },
  {
   "cell_type": "code",
   "execution_count": 33,
   "id": "a8b31138",
   "metadata": {},
   "outputs": [
    {
     "data": {
      "text/plain": [
       "{'testStat': None,\n",
       " 'criticalVal': 1.2481549617964003,\n",
       " 'ConfidenceInterval': [-0.017333336915715473, 0.15260545270942966]}"
      ]
     },
     "execution_count": 33,
     "metadata": {},
     "output_type": "execute_result"
    }
   ],
   "source": [
    "vars(r3.Htest)"
   ]
  },
  {
   "cell_type": "code",
   "execution_count": 34,
   "id": "20263392",
   "metadata": {},
   "outputs": [
    {
     "data": {
      "text/plain": [
       "{'testStat': None,\n",
       " 'criticalVal': 0.9464368350281701,\n",
       " 'ConfidenceInterval': [-0.015331424688546516, 0.1506035404822607]}"
      ]
     },
     "execution_count": 34,
     "metadata": {},
     "output_type": "execute_result"
    }
   ],
   "source": [
    "vars(r3.dHtest)"
   ]
  },
  {
   "cell_type": "code",
   "execution_count": 35,
   "id": "885b213f",
   "metadata": {},
   "outputs": [],
   "source": [
    "r4=pb.oneDproj(yl,yu,x,1)"
   ]
  },
  {
   "cell_type": "code",
   "execution_count": 36,
   "id": "c5a6fe30",
   "metadata": {},
   "outputs": [
    {
     "data": {
      "text/plain": [
       "{'bound': [-0.025567837808786895, 0.3456382284304264],\n",
       " 'null': None,\n",
       " 'Htest': <PyBounds.setBLP.TestResults at 0x7fb1313b1eb0>,\n",
       " 'dHtest': <PyBounds.setBLP.TestResults at 0x7fb1313b1910>}"
      ]
     },
     "execution_count": 36,
     "metadata": {},
     "output_type": "execute_result"
    }
   ],
   "source": [
    "vars(r4)"
   ]
  },
  {
   "cell_type": "code",
   "execution_count": 37,
   "id": "5e6f6a10",
   "metadata": {},
   "outputs": [
    {
     "data": {
      "text/plain": [
       "{'testStat': None,\n",
       " 'criticalVal': 5.564816011424855,\n",
       " 'ConfidenceInterval': [-0.06249062178117508, 0.3825610124028146]}"
      ]
     },
     "execution_count": 37,
     "metadata": {},
     "output_type": "execute_result"
    }
   ],
   "source": [
    "vars(r4.Htest)"
   ]
  },
  {
   "cell_type": "code",
   "execution_count": 38,
   "id": "45841cb6",
   "metadata": {},
   "outputs": [
    {
     "data": {
      "text/plain": [
       "{'testStat': None,\n",
       " 'criticalVal': 5.2010007031488295,\n",
       " 'ConfidenceInterval': [-0.06007669219109614, 0.3801470828127357]}"
      ]
     },
     "execution_count": 38,
     "metadata": {},
     "output_type": "execute_result"
    }
   ],
   "source": [
    "vars(r4.dHtest)"
   ]
  },
  {
   "cell_type": "code",
   "execution_count": 39,
   "id": "659e6cf3",
   "metadata": {
    "scrolled": true
   },
   "outputs": [],
   "source": [
    "r5=pb.oneDproj(yl,yu,x)"
   ]
  },
  {
   "cell_type": "code",
   "execution_count": 40,
   "id": "09bda6e2",
   "metadata": {},
   "outputs": [
    {
     "data": {
      "text/plain": [
       "{'bound': [-0.009051777215653997, 0.14432389300936818],\n",
       " 'null': None,\n",
       " 'Htest': <PyBounds.setBLP.TestResults at 0x7fb1313bbbb0>,\n",
       " 'dHtest': <PyBounds.setBLP.TestResults at 0x7fb1313bbf40>}"
      ]
     },
     "execution_count": 40,
     "metadata": {},
     "output_type": "execute_result"
    }
   ],
   "source": [
    "vars(r5[0])"
   ]
  },
  {
   "cell_type": "code",
   "execution_count": 41,
   "id": "6cbca7bc",
   "metadata": {},
   "outputs": [
    {
     "data": {
      "text/plain": [
       "{'testStat': None,\n",
       " 'criticalVal': 0.6934361684131858,\n",
       " 'ConfidenceInterval': [-0.013652754820734766, -0.020966860203706125]}"
      ]
     },
     "execution_count": 41,
     "metadata": {},
     "output_type": "execute_result"
    }
   ],
   "source": [
    "vars(r5[0].Htest)"
   ]
  },
  {
   "cell_type": "code",
   "execution_count": 42,
   "id": "94e537bf",
   "metadata": {},
   "outputs": [
    {
     "data": {
      "text/plain": [
       "{'testStat': None,\n",
       " 'criticalVal': 0.5942690040626841,\n",
       " 'ConfidenceInterval': [-0.012994776591274784, -0.021624838433166108]}"
      ]
     },
     "execution_count": 42,
     "metadata": {},
     "output_type": "execute_result"
    }
   ],
   "source": [
    "vars(r5[0].dHtest)"
   ]
  },
  {
   "cell_type": "code",
   "execution_count": 43,
   "id": "59788eb2",
   "metadata": {},
   "outputs": [
    {
     "data": {
      "text/plain": [
       "{'bound': [-0.025567837808786895, 0.3456382284304264],\n",
       " 'null': None,\n",
       " 'Htest': <PyBounds.setBLP.TestResults at 0x7fb1313ccc70>,\n",
       " 'dHtest': <PyBounds.setBLP.TestResults at 0x7fb1313cc790>}"
      ]
     },
     "execution_count": 43,
     "metadata": {},
     "output_type": "execute_result"
    }
   ],
   "source": [
    "vars(r5[1])"
   ]
  },
  {
   "cell_type": "code",
   "execution_count": 44,
   "id": "bba296e0",
   "metadata": {},
   "outputs": [
    {
     "data": {
      "text/plain": [
       "{'testStat': None,\n",
       " 'criticalVal': 2.3388498311827313,\n",
       " 'ConfidenceInterval': [0.12880552782293228, 0.3611565936168623]}"
      ]
     },
     "execution_count": 44,
     "metadata": {},
     "output_type": "execute_result"
    }
   ],
   "source": [
    "vars(r5[1].Htest)"
   ]
  },
  {
   "cell_type": "code",
   "execution_count": 45,
   "id": "14ef31bc",
   "metadata": {},
   "outputs": [
    {
     "data": {
      "text/plain": [
       "{'testStat': None,\n",
       " 'criticalVal': 2.0950305864517196,\n",
       " 'ConfidenceInterval': [0.13042327857750016, 0.3595388428622944]}"
      ]
     },
     "execution_count": 45,
     "metadata": {},
     "output_type": "execute_result"
    }
   ],
   "source": [
    "vars(r5[1].dHtest)"
   ]
  },
  {
   "cell_type": "code",
   "execution_count": 46,
   "id": "d88fa926",
   "metadata": {},
   "outputs": [],
   "source": [
    "r6 = pb.oneDproj(yl, 'logwage_u', 'age', data = cps)"
   ]
  },
  {
   "cell_type": "code",
   "execution_count": 47,
   "id": "ef2f897a",
   "metadata": {},
   "outputs": [
    {
     "data": {
      "text/plain": [
       "{'bound': [-0.004887858329797927, 0.14865963017398873],\n",
       " 'null': None,\n",
       " 'Htest': <PyBounds.setBLP.TestResults at 0x7fb1180ea280>,\n",
       " 'dHtest': <PyBounds.setBLP.TestResults at 0x7fb10136afd0>}"
      ]
     },
     "execution_count": 47,
     "metadata": {},
     "output_type": "execute_result"
    }
   ],
   "source": [
    "vars(r6)"
   ]
  },
  {
   "cell_type": "code",
   "execution_count": 48,
   "id": "0dec96a1",
   "metadata": {},
   "outputs": [
    {
     "data": {
      "text/plain": [
       "{'testStat': None,\n",
       " 'criticalVal': 0.7047452080966828,\n",
       " 'ConfidenceInterval': [-0.009563871880058493, 0.1533356437242493]}"
      ]
     },
     "execution_count": 48,
     "metadata": {},
     "output_type": "execute_result"
    }
   ],
   "source": [
    "vars(r6.Htest)"
   ]
  },
  {
   "cell_type": "code",
   "execution_count": 49,
   "id": "877469cc",
   "metadata": {},
   "outputs": [
    {
     "data": {
      "text/plain": [
       "{'testStat': None,\n",
       " 'criticalVal': 0.5974789676534665,\n",
       " 'ConfidenceInterval': [-0.008852155946362954, 0.15262392779055375]}"
      ]
     },
     "execution_count": 49,
     "metadata": {},
     "output_type": "execute_result"
    }
   ],
   "source": [
    "vars(r6.dHtest)"
   ]
  },
  {
   "cell_type": "code",
   "execution_count": 50,
   "id": "186d149d",
   "metadata": {},
   "outputs": [],
   "source": [
    "r7 = pb.oneDproj(yl, yu, 'educ', data = cps)"
   ]
  },
  {
   "cell_type": "code",
   "execution_count": 51,
   "id": "db3436c4",
   "metadata": {},
   "outputs": [
    {
     "data": {
      "text/plain": [
       "{'bound': [0.001786042221938278, 0.3685793555816805],\n",
       " 'null': None,\n",
       " 'Htest': <PyBounds.setBLP.TestResults at 0x7fb101b35130>,\n",
       " 'dHtest': <PyBounds.setBLP.TestResults at 0x7fb1313cc940>}"
      ]
     },
     "execution_count": 51,
     "metadata": {},
     "output_type": "execute_result"
    }
   ],
   "source": [
    "vars(r7)"
   ]
  },
  {
   "cell_type": "code",
   "execution_count": 52,
   "id": "a9138708",
   "metadata": {},
   "outputs": [
    {
     "data": {
      "text/plain": [
       "{'testStat': None,\n",
       " 'criticalVal': 2.45608530397215,\n",
       " 'ConfidenceInterval': [-0.014510185166377709, 0.38487558296999647]}"
      ]
     },
     "execution_count": 52,
     "metadata": {},
     "output_type": "execute_result"
    }
   ],
   "source": [
    "vars(r7.Htest)"
   ]
  },
  {
   "cell_type": "code",
   "execution_count": 53,
   "id": "ef5dfb8d",
   "metadata": {},
   "outputs": [
    {
     "data": {
      "text/plain": [
       "{'testStat': None,\n",
       " 'criticalVal': 2.1522110409953727,\n",
       " 'ConfidenceInterval': [-0.012493966886451614, 0.38285936469007037]}"
      ]
     },
     "execution_count": 53,
     "metadata": {},
     "output_type": "execute_result"
    }
   ],
   "source": [
    "vars(r7.dHtest)"
   ]
  },
  {
   "cell_type": "code",
   "execution_count": 54,
   "id": "6d2589fa",
   "metadata": {},
   "outputs": [],
   "source": [
    "r8 = pb.oneDproj(yl, yu, ['age','educ'], 0, data = cps)"
   ]
  },
  {
   "cell_type": "code",
   "execution_count": 55,
   "id": "53993e18",
   "metadata": {},
   "outputs": [
    {
     "data": {
      "text/plain": [
       "{'bound': [-0.009051777215653997, 0.14432389300936818],\n",
       " 'null': None,\n",
       " 'Htest': <PyBounds.setBLP.TestResults at 0x7fb11873ce20>,\n",
       " 'dHtest': <PyBounds.setBLP.TestResults at 0x7fb11873cf10>}"
      ]
     },
     "execution_count": 55,
     "metadata": {},
     "output_type": "execute_result"
    }
   ],
   "source": [
    "vars(r8)"
   ]
  },
  {
   "cell_type": "code",
   "execution_count": 56,
   "id": "4d41af17",
   "metadata": {},
   "outputs": [
    {
     "data": {
      "text/plain": [
       "{'testStat': None,\n",
       " 'criticalVal': 1.2481549617964003,\n",
       " 'ConfidenceInterval': [-0.017333336915715473, 0.15260545270942966]}"
      ]
     },
     "execution_count": 56,
     "metadata": {},
     "output_type": "execute_result"
    }
   ],
   "source": [
    "vars(r8.Htest)"
   ]
  },
  {
   "cell_type": "code",
   "execution_count": 57,
   "id": "6176f084",
   "metadata": {},
   "outputs": [
    {
     "data": {
      "text/plain": [
       "{'testStat': None,\n",
       " 'criticalVal': 0.9464368350281701,\n",
       " 'ConfidenceInterval': [-0.015331424688546516, 0.1506035404822607]}"
      ]
     },
     "execution_count": 57,
     "metadata": {},
     "output_type": "execute_result"
    }
   ],
   "source": [
    "vars(r8.dHtest)"
   ]
  },
  {
   "cell_type": "code",
   "execution_count": 58,
   "id": "8421bd87",
   "metadata": {},
   "outputs": [],
   "source": [
    "r9 = pb.oneDproj('logwage_l', 'logwage_u', ['age','educ'], 1, data = cps)"
   ]
  },
  {
   "cell_type": "code",
   "execution_count": 59,
   "id": "8b3b6bb4",
   "metadata": {},
   "outputs": [
    {
     "data": {
      "text/plain": [
       "{'bound': [-0.025567837808786895, 0.3456382284304264],\n",
       " 'null': None,\n",
       " 'Htest': <PyBounds.setBLP.TestResults at 0x7fb11368cc10>,\n",
       " 'dHtest': <PyBounds.setBLP.TestResults at 0x7fb1187614c0>}"
      ]
     },
     "execution_count": 59,
     "metadata": {},
     "output_type": "execute_result"
    }
   ],
   "source": [
    "vars(r9)"
   ]
  },
  {
   "cell_type": "code",
   "execution_count": 60,
   "id": "dc847a81",
   "metadata": {},
   "outputs": [
    {
     "data": {
      "text/plain": [
       "{'testStat': None,\n",
       " 'criticalVal': 5.564816011424855,\n",
       " 'ConfidenceInterval': [-0.06249062178117508, 0.3825610124028146]}"
      ]
     },
     "execution_count": 60,
     "metadata": {},
     "output_type": "execute_result"
    }
   ],
   "source": [
    "vars(r9.Htest)"
   ]
  },
  {
   "cell_type": "code",
   "execution_count": 61,
   "id": "18d03836",
   "metadata": {},
   "outputs": [
    {
     "data": {
      "text/plain": [
       "{'testStat': None,\n",
       " 'criticalVal': 5.2010007031488295,\n",
       " 'ConfidenceInterval': [-0.06007669219109614, 0.3801470828127357]}"
      ]
     },
     "execution_count": 61,
     "metadata": {},
     "output_type": "execute_result"
    }
   ],
   "source": [
    "vars(r9.dHtest)"
   ]
  },
  {
   "cell_type": "code",
   "execution_count": 62,
   "id": "8c237cd1",
   "metadata": {},
   "outputs": [],
   "source": [
    "r10 = pb.oneDproj(yl, yu, ['age','educ'], data = cps)"
   ]
  },
  {
   "cell_type": "code",
   "execution_count": 63,
   "id": "118f6dce",
   "metadata": {},
   "outputs": [
    {
     "data": {
      "text/plain": [
       "{'bound': [-0.009051777215653997, 0.14432389300936818],\n",
       " 'null': None,\n",
       " 'Htest': <PyBounds.setBLP.TestResults at 0x7fb1313cca30>,\n",
       " 'dHtest': <PyBounds.setBLP.TestResults at 0x7fb118761dc0>}"
      ]
     },
     "execution_count": 63,
     "metadata": {},
     "output_type": "execute_result"
    }
   ],
   "source": [
    "vars(r10[0])"
   ]
  },
  {
   "cell_type": "code",
   "execution_count": 64,
   "id": "14f53d69",
   "metadata": {},
   "outputs": [
    {
     "data": {
      "text/plain": [
       "{'testStat': None,\n",
       " 'criticalVal': 0.6934361684131858,\n",
       " 'ConfidenceInterval': [-0.013652754820734766, -0.020966860203706125]}"
      ]
     },
     "execution_count": 64,
     "metadata": {},
     "output_type": "execute_result"
    }
   ],
   "source": [
    "vars(r10[0].Htest)"
   ]
  },
  {
   "cell_type": "code",
   "execution_count": 65,
   "id": "29d8e34e",
   "metadata": {},
   "outputs": [
    {
     "data": {
      "text/plain": [
       "{'testStat': None,\n",
       " 'criticalVal': 0.5942690040626841,\n",
       " 'ConfidenceInterval': [-0.012994776591274784, -0.021624838433166108]}"
      ]
     },
     "execution_count": 65,
     "metadata": {},
     "output_type": "execute_result"
    }
   ],
   "source": [
    "vars(r10[0].dHtest)"
   ]
  },
  {
   "cell_type": "code",
   "execution_count": 66,
   "id": "971c3753",
   "metadata": {},
   "outputs": [
    {
     "data": {
      "text/plain": [
       "{'bound': [-0.025567837808786895, 0.3456382284304264],\n",
       " 'null': None,\n",
       " 'Htest': <PyBounds.setBLP.TestResults at 0x7fb11876a910>,\n",
       " 'dHtest': <PyBounds.setBLP.TestResults at 0x7fb11876ae50>}"
      ]
     },
     "execution_count": 66,
     "metadata": {},
     "output_type": "execute_result"
    }
   ],
   "source": [
    "vars(r10[1])"
   ]
  },
  {
   "cell_type": "code",
   "execution_count": 67,
   "id": "ae66d931",
   "metadata": {},
   "outputs": [
    {
     "data": {
      "text/plain": [
       "{'testStat': None,\n",
       " 'criticalVal': 2.3388498311827313,\n",
       " 'ConfidenceInterval': [0.12880552782293228, 0.3611565936168623]}"
      ]
     },
     "execution_count": 67,
     "metadata": {},
     "output_type": "execute_result"
    }
   ],
   "source": [
    "vars(r10[1].Htest)"
   ]
  },
  {
   "cell_type": "code",
   "execution_count": 68,
   "id": "ad57de22",
   "metadata": {},
   "outputs": [
    {
     "data": {
      "text/plain": [
       "{'testStat': None,\n",
       " 'criticalVal': 2.0950305864517196,\n",
       " 'ConfidenceInterval': [0.13042327857750016, 0.3595388428622944]}"
      ]
     },
     "execution_count": 68,
     "metadata": {},
     "output_type": "execute_result"
    }
   ],
   "source": [
    "vars(r10[1].dHtest)"
   ]
  },
  {
   "cell_type": "markdown",
   "id": "03875c19",
   "metadata": {},
   "source": [
    "# 2. Testing EY"
   ]
  },
  {
   "cell_type": "code",
   "execution_count": 69,
   "id": "6d05b656",
   "metadata": {},
   "outputs": [],
   "source": [
    "r11= pb.EY(yl, yu, [1,2], method ='')"
   ]
  },
  {
   "cell_type": "code",
   "execution_count": 70,
   "id": "187b7cbd",
   "metadata": {},
   "outputs": [
    {
     "data": {
      "text/plain": [
       "{'bound': [9.296333950856683, 10.529931600617877],\n",
       " 'null': [1, 2],\n",
       " 'Htest': <PyBounds.setBLP.TestResults at 0x7fb11876a850>,\n",
       " 'dHtest': <PyBounds.setBLP.TestResults at 0x7fb118774c10>}"
      ]
     },
     "execution_count": 70,
     "metadata": {},
     "output_type": "execute_result"
    }
   ],
   "source": [
    "vars(r11)"
   ]
  },
  {
   "cell_type": "code",
   "execution_count": 71,
   "id": "428f3401",
   "metadata": {},
   "outputs": [
    {
     "data": {
      "text/plain": [
       "{'testStat': 1285.5883235395963,\n",
       " 'criticalVal': 5.966572506606667,\n",
       " 'ConfidenceInterval': [9.25674549595274, 10.569520055521819]}"
      ]
     },
     "execution_count": 71,
     "metadata": {},
     "output_type": "execute_result"
    }
   ],
   "source": [
    "vars(r11.Htest)"
   ]
  },
  {
   "cell_type": "code",
   "execution_count": 72,
   "id": "25c1ac96",
   "metadata": {},
   "outputs": [
    {
     "data": {
      "text/plain": [
       "{'testStat': 1250.3816624548192,\n",
       " 'criticalVal': 4.989330763465701,\n",
       " 'ConfidenceInterval': [9.263229535262704, 10.563036016211855]}"
      ]
     },
     "execution_count": 72,
     "metadata": {},
     "output_type": "execute_result"
    }
   ],
   "source": [
    "vars(r11.dHtest)"
   ]
  },
  {
   "cell_type": "code",
   "execution_count": 73,
   "id": "2ffc53b0",
   "metadata": {},
   "outputs": [],
   "source": [
    "r12= pb.EY(yl, yu, [9.2963,10.5299],method='')"
   ]
  },
  {
   "cell_type": "code",
   "execution_count": 74,
   "id": "2bd8990b",
   "metadata": {},
   "outputs": [
    {
     "data": {
      "text/plain": [
       "{'bound': [9.296333950856683, 10.529931600617877],\n",
       " 'null': [9.2963, 10.5299],\n",
       " 'Htest': <PyBounds.setBLP.TestResults at 0x7fb118774760>,\n",
       " 'dHtest': <PyBounds.setBLP.TestResults at 0x7fb118774d00>}"
      ]
     },
     "execution_count": 74,
     "metadata": {},
     "output_type": "execute_result"
    }
   ],
   "source": [
    "vars(r12)"
   ]
  },
  {
   "cell_type": "code",
   "execution_count": 75,
   "id": "70c2f1bc",
   "metadata": {},
   "outputs": [
    {
     "data": {
      "text/plain": [
       "{'testStat': 0.005116902100594215,\n",
       " 'criticalVal': 5.966572506606667,\n",
       " 'ConfidenceInterval': [9.25674549595274, 10.569520055521819]}"
      ]
     },
     "execution_count": 75,
     "metadata": {},
     "output_type": "execute_result"
    }
   ],
   "source": [
    "vars(r12.Htest)"
   ]
  },
  {
   "cell_type": "code",
   "execution_count": 76,
   "id": "e28b5084",
   "metadata": {},
   "outputs": [
    {
     "data": {
      "text/plain": [
       "{'testStat': 0.005116902100594215,\n",
       " 'criticalVal': 4.989330763465701,\n",
       " 'ConfidenceInterval': [9.263229535262704, 10.563036016211855]}"
      ]
     },
     "execution_count": 76,
     "metadata": {},
     "output_type": "execute_result"
    }
   ],
   "source": [
    "vars(r12.dHtest)"
   ]
  },
  {
   "cell_type": "markdown",
   "id": "de77cf8f",
   "metadata": {},
   "source": [
    "# Testing CI1d  "
   ]
  },
  {
   "cell_type": "markdown",
   "id": "c3fa851c",
   "metadata": {},
   "source": [
    "$H_0: \\beta_{age} = [0, 0.15]$"
   ]
  },
  {
   "cell_type": "code",
   "execution_count": 77,
   "id": "7b5b501d",
   "metadata": {},
   "outputs": [],
   "source": [
    "I1 = [0, 0.15]"
   ]
  },
  {
   "cell_type": "code",
   "execution_count": 78,
   "id": "5d75cc47",
   "metadata": {},
   "outputs": [],
   "source": [
    "result1 = pb.oneDproj(yl, yu, x1, H0=I1)"
   ]
  },
  {
   "cell_type": "code",
   "execution_count": 79,
   "id": "af5ea7ad",
   "metadata": {},
   "outputs": [
    {
     "data": {
      "text/plain": [
       "{'bound': [-0.004887858329797927, 0.14865963017398873],\n",
       " 'null': [0, 0.15],\n",
       " 'Htest': <PyBounds.setBLP.TestResults at 0x7fb118774af0>,\n",
       " 'dHtest': <PyBounds.setBLP.TestResults at 0x7fb113f0bee0>}"
      ]
     },
     "execution_count": 79,
     "metadata": {},
     "output_type": "execute_result"
    }
   ],
   "source": [
    "vars(result1)"
   ]
  },
  {
   "cell_type": "code",
   "execution_count": 80,
   "id": "4612f299",
   "metadata": {},
   "outputs": [
    {
     "data": {
      "text/plain": [
       "{'testStat': 0.7366733861557336,\n",
       " 'criticalVal': 0.7047452080966828,\n",
       " 'ConfidenceInterval': [-0.009563871880058493, 0.1533356437242493]}"
      ]
     },
     "execution_count": 80,
     "metadata": {},
     "output_type": "execute_result"
    }
   ],
   "source": [
    "vars(result1.Htest)"
   ]
  },
  {
   "cell_type": "code",
   "execution_count": 81,
   "id": "7006f212",
   "metadata": {},
   "outputs": [
    {
     "data": {
      "text/plain": [
       "{'testStat': 0.20201378841303558,\n",
       " 'criticalVal': 0.5974789676534665,\n",
       " 'ConfidenceInterval': [-0.008852155946362954, 0.15262392779055375]}"
      ]
     },
     "execution_count": 81,
     "metadata": {},
     "output_type": "execute_result"
    }
   ],
   "source": [
    "vars(result1.dHtest)"
   ]
  },
  {
   "cell_type": "markdown",
   "id": "5b83e520",
   "metadata": {},
   "source": [
    "$H_0: \\beta_{age} = [0.1, 0.25]$"
   ]
  },
  {
   "cell_type": "code",
   "execution_count": 82,
   "id": "7fde8b82",
   "metadata": {},
   "outputs": [],
   "source": [
    "I2 = [0.1, 0.25]"
   ]
  },
  {
   "cell_type": "code",
   "execution_count": 83,
   "id": "c9b0f148",
   "metadata": {},
   "outputs": [],
   "source": [
    "result2 = pb.oneDproj(yl, yu, x1, H0=I2)"
   ]
  },
  {
   "cell_type": "code",
   "execution_count": 84,
   "id": "9ff78c03",
   "metadata": {
    "scrolled": true
   },
   "outputs": [
    {
     "data": {
      "text/plain": [
       "{'bound': [-0.004887858329797927, 0.14865963017398873],\n",
       " 'null': [0.1, 0.25],\n",
       " 'Htest': <PyBounds.setBLP.TestResults at 0x7fb113f0b7f0>,\n",
       " 'dHtest': <PyBounds.setBLP.TestResults at 0x7fb113f0bdf0>}"
      ]
     },
     "execution_count": 84,
     "metadata": {},
     "output_type": "execute_result"
    }
   ],
   "source": [
    "vars(result2)"
   ]
  },
  {
   "cell_type": "code",
   "execution_count": 85,
   "id": "21c06ab4",
   "metadata": {
    "scrolled": true
   },
   "outputs": [
    {
     "data": {
      "text/plain": [
       "{'testStat': 15.808169662239274,\n",
       " 'criticalVal': 0.7047452080966828,\n",
       " 'ConfidenceInterval': [-0.009563871880058493, 0.1533356437242493]}"
      ]
     },
     "execution_count": 85,
     "metadata": {},
     "output_type": "execute_result"
    }
   ],
   "source": [
    "vars(result2.Htest)"
   ]
  },
  {
   "cell_type": "code",
   "execution_count": 86,
   "id": "fa3edffa",
   "metadata": {},
   "outputs": [
    {
     "data": {
      "text/plain": [
       "{'testStat': 15.273510064496575,\n",
       " 'criticalVal': 0.5974789676534665,\n",
       " 'ConfidenceInterval': [-0.008852155946362954, 0.15262392779055375]}"
      ]
     },
     "execution_count": 86,
     "metadata": {},
     "output_type": "execute_result"
    }
   ],
   "source": [
    "vars(result2.dHtest)"
   ]
  },
  {
   "cell_type": "markdown",
   "id": "085d570b",
   "metadata": {},
   "source": [
    "$H_0: \\beta_{age} = [0, 0.1]$"
   ]
  },
  {
   "cell_type": "code",
   "execution_count": 87,
   "id": "3f9f3a9a",
   "metadata": {},
   "outputs": [],
   "source": [
    "I3 = [0, 0.1]"
   ]
  },
  {
   "cell_type": "code",
   "execution_count": 88,
   "id": "027b2d29",
   "metadata": {},
   "outputs": [],
   "source": [
    "result3 = pb.oneDproj(yl, yu, x1, H0=I3)"
   ]
  },
  {
   "cell_type": "code",
   "execution_count": 89,
   "id": "6dedc636",
   "metadata": {},
   "outputs": [
    {
     "data": {
      "text/plain": [
       "{'bound': [-0.004887858329797927, 0.14865963017398873],\n",
       " 'null': [0, 0.1],\n",
       " 'Htest': <PyBounds.setBLP.TestResults at 0x7fb113f11f40>,\n",
       " 'dHtest': <PyBounds.setBLP.TestResults at 0x7fb113f11790>}"
      ]
     },
     "execution_count": 89,
     "metadata": {},
     "output_type": "execute_result"
    }
   ],
   "source": [
    "vars(result3)"
   ]
  },
  {
   "cell_type": "code",
   "execution_count": 90,
   "id": "f7a1ac75",
   "metadata": {},
   "outputs": [
    {
     "data": {
      "text/plain": [
       "{'testStat': 7.333734349628732,\n",
       " 'criticalVal': 0.7047452080966828,\n",
       " 'ConfidenceInterval': [-0.009563871880058493, 0.1533356437242493]}"
      ]
     },
     "execution_count": 90,
     "metadata": {},
     "output_type": "execute_result"
    }
   ],
   "source": [
    "vars(result3.Htest)"
   ]
  },
  {
   "cell_type": "code",
   "execution_count": 91,
   "id": "a1e44e8c",
   "metadata": {},
   "outputs": [
    {
     "data": {
      "text/plain": [
       "{'testStat': 0.0,\n",
       " 'criticalVal': 0.5974789676534665,\n",
       " 'ConfidenceInterval': [-0.008852155946362954, 0.15262392779055375]}"
      ]
     },
     "execution_count": 91,
     "metadata": {},
     "output_type": "execute_result"
    }
   ],
   "source": [
    "vars(result3.dHtest)"
   ]
  },
  {
   "cell_type": "markdown",
   "id": "1710164e",
   "metadata": {},
   "source": [
    "$H_0: \\beta_{age} = [-0.1, 0.15]$"
   ]
  },
  {
   "cell_type": "code",
   "execution_count": 92,
   "id": "57ac25fb",
   "metadata": {},
   "outputs": [],
   "source": [
    "I4 = [-0.1, 0.15]"
   ]
  },
  {
   "cell_type": "code",
   "execution_count": 93,
   "id": "4bfa8ef1",
   "metadata": {},
   "outputs": [],
   "source": [
    "result4 = pb.oneDproj(yl, yu, x1, H0=I4)"
   ]
  },
  {
   "cell_type": "code",
   "execution_count": 94,
   "id": "2725054f",
   "metadata": {},
   "outputs": [
    {
     "data": {
      "text/plain": [
       "{'bound': [-0.004887858329797927, 0.14865963017398873],\n",
       " 'null': [-0.1, 0.15],\n",
       " 'Htest': <PyBounds.setBLP.TestResults at 0x7fb113f1b9d0>,\n",
       " 'dHtest': <PyBounds.setBLP.TestResults at 0x7fb113f1b1f0>}"
      ]
     },
     "execution_count": 94,
     "metadata": {},
     "output_type": "execute_result"
    }
   ],
   "source": [
    "vars(result4)"
   ]
  },
  {
   "cell_type": "code",
   "execution_count": 95,
   "id": "81c7ad45",
   "metadata": {},
   "outputs": [
    {
     "data": {
      "text/plain": [
       "{'testStat': 14.334822889927805,\n",
       " 'criticalVal': 0.7047452080966828,\n",
       " 'ConfidenceInterval': [-0.009563871880058493, 0.1533356437242493]}"
      ]
     },
     "execution_count": 95,
     "metadata": {},
     "output_type": "execute_result"
    }
   ],
   "source": [
    "vars(result4.Htest)"
   ]
  },
  {
   "cell_type": "code",
   "execution_count": 96,
   "id": "f127cc91",
   "metadata": {},
   "outputs": [
    {
     "data": {
      "text/plain": [
       "{'testStat': 14.334822889927805,\n",
       " 'criticalVal': 0.5974789676534665,\n",
       " 'ConfidenceInterval': [-0.008852155946362954, 0.15262392779055375]}"
      ]
     },
     "execution_count": 96,
     "metadata": {},
     "output_type": "execute_result"
    }
   ],
   "source": [
    "vars(result4.dHtest)"
   ]
  },
  {
   "cell_type": "markdown",
   "id": "9e0b6198",
   "metadata": {},
   "source": [
    "# regress $yl, yu$ on age, educ $\\rightarrow$ $\\beta_{age}$"
   ]
  },
  {
   "cell_type": "code",
   "execution_count": 97,
   "id": "84bcd597",
   "metadata": {},
   "outputs": [
    {
     "name": "stdout",
     "output_type": "stream",
     "text": [
      "                            OLS Regression Results                            \n",
      "==============================================================================\n",
      "Dep. Variable:              logwage_l   R-squared:                       0.105\n",
      "Model:                            OLS   Adj. R-squared:                  0.105\n",
      "Method:                 Least Squares   F-statistic:                     982.3\n",
      "Date:                Wed, 29 Nov 2023   Prob (F-statistic):               0.00\n",
      "Time:                        14:14:20   Log-Likelihood:                -56435.\n",
      "No. Observations:               22715   AIC:                         1.129e+05\n",
      "Df Residuals:                   22712   BIC:                         1.129e+05\n",
      "Df Model:                           2                                         \n",
      "Covariance Type:                  HC1                                         \n",
      "==============================================================================\n",
      "                 coef    std err          z      P>|z|      [0.025      0.975]\n",
      "------------------------------------------------------------------------------\n",
      "Intercept      3.3251      0.151     21.988      0.000       3.029       3.622\n",
      "educ           0.1892      0.009     21.669      0.000       0.172       0.206\n",
      "age            0.0985      0.003     36.340      0.000       0.093       0.104\n",
      "==============================================================================\n",
      "Omnibus:                    10680.502   Durbin-Watson:                   1.918\n",
      "Prob(Omnibus):                  0.000   Jarque-Bera (JB):            44014.677\n",
      "Skew:                          -2.425   Prob(JB):                         0.00\n",
      "Kurtosis:                       7.794   Cond. No.                         263.\n",
      "==============================================================================\n",
      "\n",
      "Notes:\n",
      "[1] Standard Errors are heteroscedasticity robust (HC1)\n"
     ]
    }
   ],
   "source": [
    "ols3 = smf.ols(formula='logwage_l ~ educ+age',data=cps).fit(cov_type='HC1')\n",
    "betal = ols3._results.params[2]\n",
    "print(ols3.summary())"
   ]
  },
  {
   "cell_type": "code",
   "execution_count": 98,
   "id": "85c8554b",
   "metadata": {},
   "outputs": [
    {
     "name": "stdout",
     "output_type": "stream",
     "text": [
      "                            OLS Regression Results                            \n",
      "==============================================================================\n",
      "Dep. Variable:              logwage_u   R-squared:                       0.234\n",
      "Model:                            OLS   Adj. R-squared:                  0.234\n",
      "Method:                 Least Squares   F-statistic:                     3220.\n",
      "Date:                Wed, 29 Nov 2023   Prob (F-statistic):               0.00\n",
      "Time:                        14:14:21   Log-Likelihood:                -27984.\n",
      "No. Observations:               22715   AIC:                         5.597e+04\n",
      "Df Residuals:                   22712   BIC:                         5.600e+04\n",
      "Df Model:                           2                                         \n",
      "Covariance Type:                  HC1                                         \n",
      "==============================================================================\n",
      "                 coef    std err          z      P>|z|      [0.025      0.975]\n",
      "------------------------------------------------------------------------------\n",
      "Intercept      7.5141      0.037    201.564      0.000       7.441       7.587\n",
      "educ           0.1309      0.003     52.253      0.000       0.126       0.136\n",
      "age            0.0368      0.001     59.087      0.000       0.036       0.038\n",
      "==============================================================================\n",
      "Omnibus:                     2417.526   Durbin-Watson:                   1.857\n",
      "Prob(Omnibus):                  0.000   Jarque-Bera (JB):             3602.613\n",
      "Skew:                           0.803   Prob(JB):                         0.00\n",
      "Kurtosis:                       4.107   Cond. No.                         263.\n",
      "==============================================================================\n",
      "\n",
      "Notes:\n",
      "[1] Standard Errors are heteroscedasticity robust (HC1)\n"
     ]
    }
   ],
   "source": [
    "ols4 = smf.ols(formula='logwage_u ~ educ+age',data=cps).fit(cov_type='HC1')\n",
    "betau = ols4._results.params[2]\n",
    "print(ols4.summary())"
   ]
  },
  {
   "cell_type": "code",
   "execution_count": 99,
   "id": "11fd46d2",
   "metadata": {},
   "outputs": [],
   "source": [
    "I5 = [min(betal, betau), max(betal, betau)]"
   ]
  },
  {
   "cell_type": "code",
   "execution_count": 100,
   "id": "dfe3c143",
   "metadata": {},
   "outputs": [],
   "source": [
    "result5 = pb.oneDproj(yl, yu, x1, H0=I5)"
   ]
  },
  {
   "cell_type": "code",
   "execution_count": 101,
   "id": "017e9bb9",
   "metadata": {},
   "outputs": [
    {
     "data": {
      "text/plain": [
       "{'bound': [-0.004887858329797927, 0.14865963017398873],\n",
       " 'null': [0.036751039362084854, 0.0985210764316407],\n",
       " 'Htest': <PyBounds.setBLP.TestResults at 0x7fb113f38400>,\n",
       " 'dHtest': <PyBounds.setBLP.TestResults at 0x7fb113f38bb0>}"
      ]
     },
     "execution_count": 101,
     "metadata": {},
     "output_type": "execute_result"
    }
   ],
   "source": [
    "vars(result5)"
   ]
  },
  {
   "cell_type": "code",
   "execution_count": 102,
   "id": "f7c55b54",
   "metadata": {},
   "outputs": [
    {
     "data": {
      "text/plain": [
       "{'testStat': 7.556630260160127,\n",
       " 'criticalVal': 0.7047452080966828,\n",
       " 'ConfidenceInterval': [-0.009563871880058493, 0.1533356437242493]}"
      ]
     },
     "execution_count": 102,
     "metadata": {},
     "output_type": "execute_result"
    }
   ],
   "source": [
    "vars(result5.Htest)"
   ]
  },
  {
   "cell_type": "code",
   "execution_count": 103,
   "id": "e853e4d3",
   "metadata": {},
   "outputs": [
    {
     "data": {
      "text/plain": [
       "{'testStat': 0.0,\n",
       " 'criticalVal': 0.5974789676534665,\n",
       " 'ConfidenceInterval': [-0.008852155946362954, 0.15262392779055375]}"
      ]
     },
     "execution_count": 103,
     "metadata": {},
     "output_type": "execute_result"
    }
   ],
   "source": [
    "vars(result5.dHtest)"
   ]
  },
  {
   "cell_type": "code",
   "execution_count": null,
   "id": "de2b72ca",
   "metadata": {},
   "outputs": [],
   "source": []
  }
 ],
 "metadata": {
  "kernelspec": {
   "display_name": "Python 3 (ipykernel)",
   "language": "python",
   "name": "python3"
  },
  "language_info": {
   "codemirror_mode": {
    "name": "ipython",
    "version": 3
   },
   "file_extension": ".py",
   "mimetype": "text/x-python",
   "name": "python",
   "nbconvert_exporter": "python",
   "pygments_lexer": "ipython3",
   "version": "3.8.12"
  }
 },
 "nbformat": 4,
 "nbformat_minor": 5
}
